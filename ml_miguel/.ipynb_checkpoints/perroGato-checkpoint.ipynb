{
 "cells": [
  {
   "cell_type": "markdown",
   "metadata": {
    "deletable": true,
    "editable": true
   },
   "source": [
    "# Perros o gatos?\n",
    "***Por Miguel Escalona***\n",
    "\n",
    "                                                                                         Edición Febrero 2017"
   ]
  },
  {
   "cell_type": "markdown",
   "metadata": {
    "deletable": true,
    "editable": true
   },
   "source": [
    "### Inicio del notebook\n",
    "Para iniciar cualquier notebook, comenzaremos por invocar los módulos necesarios para su desarrollo. Para esto utilizaremos el comando ***import*** seguido del nombre del módulo. Cuando queramos utilizar una función interna del módulo, debemos escribir su nombre antes de la función. Por ejemplo:\n",
    "```python\n",
    "import modulo\n",
    "modulo.funcion()\n",
    "```\n",
    "en el caso en que no queramos escribir el nombre completo de un modulo, podemos colocar con alias con el comando ***as***\n",
    "```python\n",
    "import modulo as md\n",
    "md.funcion()\n",
    "```\n",
    "finalmente, si solo queremos acceder de forma directa a todas las funciones internas del módulo sin necesidad de escribir su nombre (ni el alias) cada vez, podemos escribir\n",
    "```python\n",
    "from modulo import *\n",
    "funcion()\n",
    "```\n",
    "lo cual cargará todas las funciones del módulo sobrecargando aquellas funciones ya definidas en el código que tengan el mismo nombre. \n",
    "\n",
    "<p class=\"alert alert-danger\">Este último método, aunque cómodo, es el menos aconsejable de todos</span>."
   ]
  },
  {
   "cell_type": "code",
   "execution_count": null,
   "metadata": {
    "collapsed": true,
    "deletable": true,
    "editable": true
   },
   "outputs": [],
   "source": [
    "import pandas as pd  # Cargamos pandas con el alias pd"
   ]
  },
  {
   "cell_type": "markdown",
   "metadata": {
    "deletable": true,
    "editable": true
   },
   "source": [
    "# Un problema de clasificación: ¿perro o gato?\n",
    "En este notebook resolveremos un problema simple de clasificación que deja en evidencia conceptos básicos de Machine Learning (ML).\n",
    "El problema planteado consiste en identificar la **especie** del animal (perro o gato) basados en tres características: ¿el animal busca la pelota cuando se la lanzamos?, ¿el animal suele ser apático? y ¿el animal disfruta más de la comida de perro, de la de gato o del bacon?"
   ]
  },
  {
   "cell_type": "markdown",
   "metadata": {
    "deletable": true,
    "editable": true
   },
   "source": [
    "# 1. Cargando los datos\n",
    "\n",
    "Para la carga de datos usaremos la función `read_csv` de pandas. Pandas cuenta con un amplio listado de funciones para la carga de datos. Mas informacion en la [documentación de la API.](http://pandas.pydata.org/pandas-docs/stable/io.html) "
   ]
  },
  {
   "cell_type": "code",
   "execution_count": null,
   "metadata": {
    "collapsed": false,
    "deletable": true,
    "editable": true
   },
   "outputs": [],
   "source": [
    "dfl = pd.read_csv('data/perros_o_gatos.csv', index_col='observacion')\n",
    "print('Estos datos han sido tomados del libro Mastering machine learning with scikit-learn de Gavin Hackeling, \\\n",
    "PACKT publishing open source, pp. 99')\n",
    "dfl  # En jupyter al escribir una variable sin mas, la celda nos devuelve su contenido."
   ]
  },
  {
   "cell_type": "markdown",
   "metadata": {
    "deletable": true,
    "editable": true
   },
   "source": [
    "Los datos se componen de **observaciones** numeradas del 1 al 14 y 3 **features** o características representadas en las columnas (también se les conocen como inputs). La columna **especie** es la respuesta a nuestro problema, por lo que no representa un feature. Esto quiere decir que solo la usaremos para saber si el algoritmo de machine learning está haciendo una buena clasificación o no. A esta columna (especie) se la suele llamar *target*, *label*, *output* o *y*.\n",
    "\n",
    "### Aprendizaje supervisado (supervised learning)\n",
    "\n",
    "Se dice que un problema de machine learning es supervisado si dentro de los datos tenemos el **target**, por lo que podemos evaluar a nuestro algoritmo durante su entrenamiento.\n",
    "\n",
    "### Aprendizaje no supervisado (unsupervised learning)\n",
    "\n",
    "Si no contamos con las etiquetas o **labels** estaremos ante un problema no supervisado. El algoritmo deberá encontrar por sí mismo los patrones que puedan diferenciar los datos. \n",
    "Un ejemplo de este tipo de problemas es cuando queremos reconocer objetos en una imagen. Nuestro algoritmo intentará segmentar los diferentes objetos, usando por ejemplo sus contornos, pero sin conocer la forma exacta o el objeto que debe identificar. "
   ]
  },
  {
   "cell_type": "markdown",
   "metadata": {
    "deletable": true,
    "editable": true
   },
   "source": [
    "# 2. Mini Exploratory Data Analisys (EDA)"
   ]
  },
  {
   "cell_type": "code",
   "execution_count": null,
   "metadata": {
    "collapsed": false,
    "deletable": true,
    "editable": true
   },
   "outputs": [],
   "source": [
    "dfl.describe()"
   ]
  },
  {
   "cell_type": "markdown",
   "metadata": {
    "deletable": true,
    "editable": true
   },
   "source": [
    "#### Suma, media, mediana y desviación estándard (sum, mean, median, std)\n",
    "¿Cuántos animales juegan al busca? "
   ]
  },
  {
   "cell_type": "code",
   "execution_count": null,
   "metadata": {
    "collapsed": false,
    "deletable": true,
    "editable": true
   },
   "outputs": [],
   "source": [
    "dfl['juega al busca'].sum()"
   ]
  },
  {
   "cell_type": "markdown",
   "metadata": {
    "deletable": true,
    "editable": true
   },
   "source": [
    "#### Filtros de pandas\n",
    "y cuantos de estos son perros?"
   ]
  },
  {
   "cell_type": "code",
   "execution_count": null,
   "metadata": {
    "collapsed": false,
    "deletable": true,
    "editable": true
   },
   "outputs": [],
   "source": [
    "dfl.loc[dfl['especie']=='perro','juega al busca'].sum()"
   ]
  },
  {
   "cell_type": "markdown",
   "metadata": {
    "deletable": true,
    "editable": true
   },
   "source": [
    "# 3. Separemos la columna *especies* para no confundirla "
   ]
  },
  {
   "cell_type": "code",
   "execution_count": null,
   "metadata": {
    "collapsed": false,
    "deletable": true,
    "editable": true
   },
   "outputs": [],
   "source": [
    "labels = dfl['especie']\n",
    "df = dfl[['juega al busca', 'apatico', 'comida favorita']]\n",
    "df"
   ]
  },
  {
   "cell_type": "code",
   "execution_count": null,
   "metadata": {
    "collapsed": false,
    "deletable": true,
    "editable": true
   },
   "outputs": [],
   "source": [
    "labels "
   ]
  },
  {
   "cell_type": "markdown",
   "metadata": {
    "deletable": true,
    "editable": true
   },
   "source": [
    "### ¡La variable *comida favorita* es del tipo categórica!\n",
    "Esta variable tiene tres valores posibles. Para conocer con qué frecuencia aparece cada valor podemos utilizar el método `value_counts()` del dataframe"
   ]
  },
  {
   "cell_type": "code",
   "execution_count": null,
   "metadata": {
    "collapsed": false,
    "deletable": true,
    "editable": true
   },
   "outputs": [],
   "source": [
    "df['comida favorita'].value_counts()"
   ]
  },
  {
   "cell_type": "markdown",
   "metadata": {
    "deletable": true,
    "editable": true
   },
   "source": [
    "# 4. Codificación de variables categóricas\n",
    "Las variables categóricas deben ser convertidas a numéricas para poder ser interpretadas por el algorítmo de machine learning. Una posible codificación sería:\n",
    "\n",
    "```\n",
    "| comida favorita | valor   |\n",
    "|-----------------|---------|\n",
    "|comida de gato   |    0    |\n",
    "|comida de perro  |    1    |\n",
    "|bacon            |    2    |\n",
    "-----------------------------\n",
    "\n",
    "```\n",
    "Sin embargo, esta codificación asigna un orden *artificial* a las variables. Nuestro ordenador sabe que *0 < 1 < 2*, por lo que asociará que\n",
    "\n",
    "*comida de gato < comida de perro < bacon*.\n",
    "\n",
    "### Codificacion one-Hot\n",
    "Este tipo de codificación representa la columna *comida favorita* en tres columnas de 0 o 1 de la siguiente manera\n",
    "```\n",
    "| comida favorita | comida favorita=comida de gato | comida favorita=comida de perro | comida favorita=bacon | \n",
    "|-----------------|--------------------------------|---------------------------------|-----------------------|\n",
    "|comida de gato   |                1               |                0                |            0          |\n",
    "|comida de perro  |                0               |                1                |            0          |\n",
    "|bacon            |                0               |                0                |            1          |\n",
    "--------------------------------------------------------------------------------------------------------------\n",
    "```\n",
    "Atención, se debe tener cuidado cuando se desee utilizar este tipo de codificación en datasets (muy) grandes en el que  el némero de categorías son cientos o miles, pues cada categoría generará una nueva columna en nuestro dataset."
   ]
  },
  {
   "cell_type": "markdown",
   "metadata": {
    "deletable": true,
    "editable": true
   },
   "source": [
    "# All you need is... scikit-learn (sklearn) ... well, not really.\n",
    "El módulo scikit-learn contiene una gran mayoría de las herramientas que necesitamos para resolver un problema típico de machine learning. Aquí podemos encontrar algorítmos de clasificación, regresión, clustering; además de métodos para el preprocesado de datos. Mas información en el [sitio oficial de scikit-learn](http://scikit-learn.org/stable/).\n",
    "\n",
    "Para cargar este módulo usaremos el comando\n",
    "```python\n",
    "import sklearn\n",
    "```\n",
    "en lugar de usar su nombre completo.\n",
    "\n",
    "Otra forma de cargar funciones de un módulo es hacer referencia a la función directamente:\n",
    "```python\n",
    "from sklearn.preprocessing import OneHotEncoder\n",
    "```\n",
    "A pesar de que la función `OneHotEncoder` existe en sklearn, nosotros utilizaremos otra función llamada `DictVectorizer`. Esta función recibe como entrada variables numéricas y/o categóricas y devuelve las variables numéricas como flotantes y a las categóricas le aplica la codificación one-hot.\n",
    "\n",
    "\n",
    "<p class=\"alert alert-danger\">\n",
    "Nota: la función `DictVectorizer` no respeta el orden de entrada de las columnas pudiendo devolver un dataframe con otro orden de columnas. Para que respete el orden de las filas, debemos especificar el parámetro **`orient='records'`**</span>."
   ]
  },
  {
   "cell_type": "code",
   "execution_count": null,
   "metadata": {
    "collapsed": false,
    "deletable": true,
    "editable": true
   },
   "outputs": [],
   "source": [
    "from sklearn.feature_extraction import DictVectorizer\n",
    "vectorizer = DictVectorizer(sparse=False)\n",
    "ab = vectorizer.fit_transform(df.to_dict(orient='records'))\n",
    "dft = pd.DataFrame(ab, columns=vectorizer.get_feature_names())\n",
    "dft.head()"
   ]
  },
  {
   "cell_type": "markdown",
   "metadata": {
    "deletable": true,
    "editable": true
   },
   "source": [
    "De esta forma, nuestro dataframe ya está preparado para ser utilizado por cualquiera de los algoritmos de clasificación de scikit-learn. \n",
    "\n",
    "# 5. Algoritmo de clasificación: Arbol de decisión\n",
    "\n",
    "Un árbol de clasificación divide los datos en subconjuntos cada vez mas pequeños para ir determinando la clase a la cual pertenecen.  Básicamente, lo que hace este algoritmo es buscar la pregunta necesaria para poder separar la mayor cantidad de datos en dos grupos. Luego, vuelve a buscar la siguiente pregunta que romperá mejor al subgrupo y así, sucesivamente, hasta reducir los grupos lo suficiente hasta que quedemos satisfechos. "
   ]
  },
  {
   "cell_type": "markdown",
   "metadata": {
    "deletable": true,
    "editable": true
   },
   "source": [
    "## Las preguntas\n",
    "Para este ejemplo tenemos tantas preguntas posibles como features. Por ejemplo, podemos preguntar:\n",
    "* El animal juega al busca, ¿si o no?\n",
    "* El animal es apático, ¿si o no?\n",
    "* ¿le gusta la comida de gato?\n",
    "* ¿le gusta la comida de perro?\n",
    "* ¿le gusta el bacon?\n",
    "\n",
    "## Pero,  ¿qué deberíamos preguntar primero? \n",
    "Para responder esta clase de preguntas los algoritmos de machine learning se sirven de una *función de transferencia* o una *función de costo*. Un árbol de decisión utiliza una función de tranferencia llamada ***Entropía*** para cuantificar el nivel de incertidumbre que tenemos en la clasificación de los datos. Es decir, la pregunta que sea capaz de reducir mas la incertidumbre (entropía) será la primera pregunta a hacer.\n",
    "\n",
    "La entropía viene definida de la siguiente manera:\n",
    "\n",
    "$H(x) = - \\sum_{i=1}^n p_i \\log_2 p_i$\n",
    "\n",
    "donde $H$ es la entropía, $p_i$ es la probabilidad que sea perro o gato. Veamos cual es la entropía de nuestro problema:\n",
    "\n",
    "Como tenemos 6 perros y 8 gatos, la probabilidad de escoger un perro al azar es $\\frac{6}{14}$, y la de que sea gato es $\\frac{8}{14}$. Entonces la entropía inicial de nuestro problema es:\n",
    "\n",
    "$H(x) = -(\\frac{6}{14}\\log_2\\frac{6}{14} + \\frac{8}{14}\\log_2\\frac{8}{14}) = 0.9852... $"
   ]
  },
  {
   "cell_type": "code",
   "execution_count": null,
   "metadata": {
    "collapsed": true,
    "deletable": true,
    "editable": true
   },
   "outputs": [],
   "source": [
    "from numpy import log2\n",
    "def entropia_perro_gato(count_perro, count_gato):\n",
    "    prob_perro = count_perro / float(count_perro + count_gato)\n",
    "    prob_gato = count_gato / float(count_perro + count_gato)\n",
    "    return 0.0 if not count_perro or not count_gato else -(prob_perro*log2(prob_perro) + prob_gato*log2(prob_gato))"
   ]
  },
  {
   "cell_type": "markdown",
   "metadata": {
    "deletable": true,
    "editable": true
   },
   "source": [
    "## Evaluemos la pregunta si le gusta jugar al busca\n",
    "Evaluemos las entropías:"
   ]
  },
  {
   "cell_type": "code",
   "execution_count": null,
   "metadata": {
    "collapsed": false,
    "deletable": true,
    "editable": true
   },
   "outputs": [],
   "source": [
    "perro = dfl['especie']=='perro'\n",
    "gato = dfl['especie']=='gato'\n",
    "no_busca = dfl['juega al busca']==False\n",
    "si_busca = dfl['juega al busca']==True\n",
    "\n",
    "print('A %d perros y %d gatos sí les gusta jugar al busca. H=%0.4f' % (\n",
    "      dfl[perro]['juega al busca'].sum(),#podemos contar sumando el numero de True\n",
    "      len(dfl[gato & si_busca]),#o filtrando y contando cueantos valores quedan\n",
    "      entropia_perro_gato(4,1),\n",
    "     ))\n",
    "\n",
    "\n",
    "\n",
    "print('A %d perros y %d gatos no les gusta jugar al busca. H=%0.4f' % (\n",
    "      len(df[perro&no_busca]),\n",
    "      len(df[gato&no_busca]),\n",
    "      entropia_perro_gato(len(dfl[perro & no_busca]),\n",
    "                          len(dfl[gato & no_busca])),\n",
    "     ))"
   ]
  },
  {
   "cell_type": "markdown",
   "metadata": {
    "deletable": true,
    "editable": true
   },
   "source": [
    "### ¿y la comida de gato?\n",
    "* a 0 perros y 6 gatos les gusta la comida de gatos\n",
    "* mientras que a 6 perros y 2 gatos no les gusta.\n",
    "Su entropía es:"
   ]
  },
  {
   "cell_type": "code",
   "execution_count": null,
   "metadata": {
    "collapsed": false,
    "deletable": true,
    "editable": true
   },
   "outputs": [],
   "source": [
    "print(entropia_perro_gato(0,6))\n",
    "print(entropia_perro_gato(6,2))"
   ]
  },
  {
   "cell_type": "markdown",
   "metadata": {},
   "source": [
    "#### y no te olvides de la ganancia de información (information gain)"
   ]
  },
  {
   "cell_type": "markdown",
   "metadata": {
    "deletable": true,
    "editable": true
   },
   "source": [
    "# Ahora sí, el árbol de decisión automático"
   ]
  },
  {
   "cell_type": "code",
   "execution_count": null,
   "metadata": {
    "collapsed": false,
    "deletable": true,
    "editable": true
   },
   "outputs": [],
   "source": [
    "from sklearn.tree import DecisionTreeClassifier\n",
    "\n",
    "classifier = DecisionTreeClassifier(criterion='entropy')\n",
    "classifier.fit(dft, labels)"
   ]
  },
  {
   "cell_type": "markdown",
   "metadata": {
    "deletable": true,
    "editable": true
   },
   "source": [
    "## 5.1 importancia de los features\n",
    "como vamos a graficar, utilizaremos la función *mágica* de jupyter \n",
    "```python\n",
    "%matplotlib inline\n",
    "```\n",
    "la cual nos permite realizar gráficos en el notebook."
   ]
  },
  {
   "cell_type": "code",
   "execution_count": null,
   "metadata": {
    "collapsed": true,
    "deletable": true,
    "editable": true
   },
   "outputs": [],
   "source": [
    "import matplotlib\n",
    "import matplotlib.pyplot as plt\n",
    "%matplotlib inline\n",
    "plt.rcParams['figure.figsize'] = (10, 6)\n",
    "plt.rcParams['xtick.labelsize'] = 12\n",
    "plt.rcParams['ytick.labelsize'] = 12"
   ]
  },
  {
   "cell_type": "code",
   "execution_count": null,
   "metadata": {
    "collapsed": false,
    "deletable": true,
    "editable": true
   },
   "outputs": [],
   "source": [
    "feat = pd.DataFrame(index=dft.keys(), data=classifier.feature_importances_, columns=['score'])\n",
    "feat = feat.sort_values(by='score', ascending=False)\n",
    "feat.plot(kind='bar',rot=85)"
   ]
  },
  {
   "cell_type": "markdown",
   "metadata": {
    "deletable": true,
    "editable": true
   },
   "source": [
    "# 6. Visualizando el arbol, requiere graphviz\n",
    "```\n",
    "conda install graphviz\n",
    "```"
   ]
  },
  {
   "cell_type": "code",
   "execution_count": null,
   "metadata": {
    "collapsed": true,
    "deletable": true,
    "editable": true
   },
   "outputs": [],
   "source": [
    "from sklearn.tree import export_graphviz\n",
    "dotfile = open('perro_gato_tree.dot', 'w')\n",
    "export_graphviz(\n",
    "    classifier, \n",
    "    out_file = dotfile, \n",
    "    filled=True, \n",
    "    feature_names = dft.columns, \n",
    "    class_names=list(labels), \n",
    "    rotate=True, \n",
    "    max_depth=None, \n",
    "    rounded=True,\n",
    ")\n",
    "dotfile.close()"
   ]
  },
  {
   "cell_type": "markdown",
   "metadata": {
    "deletable": true,
    "editable": true
   },
   "source": [
    "La celda anterior exportó el árbol de decisión creado con sklearn y entrenado con nuestros datos a un archivo .dot\n",
    "\n",
    "Este archivo lo procesaremos con el comando dot de la terminal. Desde jupyter, podemos ejecutar comandos de terminal sin salir del notebook:"
   ]
  },
  {
   "cell_type": "code",
   "execution_count": null,
   "metadata": {
    "collapsed": true,
    "deletable": true,
    "editable": true
   },
   "outputs": [],
   "source": [
    "!dot -Tpng perro_gato_tree.dot -o perro_gato_tree.png "
   ]
  },
  {
   "cell_type": "markdown",
   "metadata": {
    "deletable": true,
    "editable": true
   },
   "source": [
    "finalmente para cargar la imagen usamos:"
   ]
  },
  {
   "cell_type": "code",
   "execution_count": null,
   "metadata": {
    "collapsed": false,
    "deletable": true,
    "editable": true
   },
   "outputs": [],
   "source": [
    "from IPython.display import Image\n",
    "Image('perro_gato_tree.png', width=1000)"
   ]
  },
  {
   "cell_type": "markdown",
   "metadata": {
    "deletable": true,
    "editable": true
   },
   "source": [
    "# 7. Evaluación del modelo"
   ]
  },
  {
   "cell_type": "code",
   "execution_count": null,
   "metadata": {
    "collapsed": true,
    "deletable": true,
    "editable": true
   },
   "outputs": [],
   "source": [
    "import numpy as np"
   ]
  },
  {
   "cell_type": "code",
   "execution_count": null,
   "metadata": {
    "collapsed": false,
    "deletable": true,
    "editable": true
   },
   "outputs": [],
   "source": [
    "np.array(classifier.predict(dft))"
   ]
  },
  {
   "cell_type": "code",
   "execution_count": null,
   "metadata": {
    "collapsed": false,
    "deletable": true,
    "editable": true
   },
   "outputs": [],
   "source": [
    "np.array(labels)"
   ]
  },
  {
   "cell_type": "code",
   "execution_count": null,
   "metadata": {
    "collapsed": false,
    "deletable": true,
    "editable": true
   },
   "outputs": [],
   "source": [
    "print('Error rate %0.4f'%((np.array(classifier.predict(dft))==np.array(labels)).sum() / float(len(labels))))"
   ]
  },
  {
   "cell_type": "markdown",
   "metadata": {
    "deletable": true,
    "editable": true
   },
   "source": [
    "## Ahora evaluemos sobre datos nunca vistos por el modelo!!!!!"
   ]
  },
  {
   "cell_type": "code",
   "execution_count": null,
   "metadata": {
    "collapsed": false,
    "deletable": true,
    "editable": true
   },
   "outputs": [],
   "source": [
    "test = pd.read_csv('data/perros_o_gatos_TEST.csv', index_col='observacion')\n",
    "test"
   ]
  },
  {
   "cell_type": "code",
   "execution_count": null,
   "metadata": {
    "collapsed": true,
    "deletable": true,
    "editable": true
   },
   "outputs": [],
   "source": [
    "label_test = test['especie']\n",
    "del test['especie']"
   ]
  },
  {
   "cell_type": "code",
   "execution_count": null,
   "metadata": {
    "collapsed": false,
    "deletable": true,
    "editable": true
   },
   "outputs": [],
   "source": [
    "ab = vectorizer.transform(test.to_dict(orient='records'))\n",
    "dftest = pd.DataFrame(ab, columns=vectorizer.get_feature_names())\n",
    "dftest.head()"
   ]
  },
  {
   "cell_type": "code",
   "execution_count": null,
   "metadata": {
    "collapsed": false,
    "deletable": true,
    "editable": true
   },
   "outputs": [],
   "source": [
    "list(classifier.predict(dftest))"
   ]
  },
  {
   "cell_type": "code",
   "execution_count": null,
   "metadata": {
    "collapsed": false,
    "deletable": true,
    "editable": true
   },
   "outputs": [],
   "source": [
    "list(label_test)"
   ]
  },
  {
   "cell_type": "code",
   "execution_count": null,
   "metadata": {
    "collapsed": false,
    "deletable": true,
    "editable": true
   },
   "outputs": [],
   "source": [
    "print('Error rate %0.4f'%((np.array(classifier.predict(dftest))==np.array(label_test)).sum() / float(len(label_test))))"
   ]
  },
  {
   "cell_type": "markdown",
   "metadata": {
    "collapsed": true,
    "deletable": true,
    "editable": true
   },
   "source": [
    "# Fin"
   ]
  }
 ],
 "metadata": {
  "kernelspec": {
   "display_name": "Python 2",
   "language": "python",
   "name": "python2"
  },
  "language_info": {
   "codemirror_mode": {
    "name": "ipython",
    "version": 2
   },
   "file_extension": ".py",
   "mimetype": "text/x-python",
   "name": "python",
   "nbconvert_exporter": "python",
   "pygments_lexer": "ipython2",
   "version": "2.7.13"
  }
 },
 "nbformat": 4,
 "nbformat_minor": 2
}
