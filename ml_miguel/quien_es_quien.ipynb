{
 "cells": [
  {
   "cell_type": "markdown",
   "metadata": {},
   "source": [
    "# Cual es la mejor estrategia para adivinar?\n",
    "***Por Miguel Escalona***"
   ]
  },
  {
   "cell_type": "code",
   "execution_count": null,
   "metadata": {
    "collapsed": true
   },
   "outputs": [],
   "source": [
    "import matplotlib\n",
    "import matplotlib.pyplot as plt\n",
    "%matplotlib inline\n",
    "matplotlib.rcParams['figure.figsize'] = (15.0, 6.0)\n",
    "import numpy as np\n",
    "import warnings\n",
    "warnings.filterwarnings(\"ignore\", category=DeprecationWarning) \n",
    "from IPython.display import Image"
   ]
  },
  {
   "cell_type": "markdown",
   "metadata": {},
   "source": [
    "# ¡Adivina Quién es!\n",
    "\n",
    "El juego de adivina quién es, consiste en adivinar el personaje que tu oponente ha seleccionado antes de que él/ella adivine el tuyo.\n",
    "La dinámica del juego es:\n",
    "* Cada jugador elige un personaje al azar \n",
    "* Por turnos, cada jugador realiza preguntas de sí o no, e intenta adivinar el personaje del oponente.\n",
    "* Las preguntas válidas están basadas en la apariencia de los personajes y deberían ser fáciles de responder.\n",
    "* Ejemplo de pregunta válida: ¿Tiene el cabello negro?\n",
    "* Ejemplo de pregunta no válida: ¿Luce como un ex-presidiario?\n",
    "\n",
    "A continuación, cargamos el tablero con los personajes."
   ]
  },
  {
   "cell_type": "code",
   "execution_count": null,
   "metadata": {
    "collapsed": false
   },
   "outputs": [],
   "source": [
    "Image('data/guess_who_board.jpg', width=700)"
   ]
  },
  {
   "cell_type": "markdown",
   "metadata": {},
   "source": [
    "# 1. Cargando los datos\n",
    "\n",
    "Para la carga de datos usaremos la función `read_csv` de pandas. Pandas cuenta con un amplio listado de funciones para la carga de datos. Mas informacion en la [documentación de la API.](http://pandas.pydata.org/pandas-docs/stable/io.html) "
   ]
  },
  {
   "cell_type": "code",
   "execution_count": null,
   "metadata": {
    "collapsed": true
   },
   "outputs": [],
   "source": [
    "# Carga el modulo pandas\n"
   ]
  },
  {
   "cell_type": "code",
   "execution_count": null,
   "metadata": {
    "collapsed": false
   },
   "outputs": [],
   "source": [
    "# Escribe aqui tu codigo para cargar los datos (utiliza read_csv), llama a los datos df\n",
    "\n",
    "df = \n",
    "df.head()"
   ]
  },
  {
   "cell_type": "markdown",
   "metadata": {},
   "source": [
    "# 2. ¿Cuántos personajes tenemos con cada característica?"
   ]
  },
  {
   "cell_type": "code",
   "execution_count": null,
   "metadata": {
    "collapsed": false
   },
   "outputs": [],
   "source": [
    "#Separamos los tipos de variables\n",
    "categorical_var = 'color de cabello'\n",
    "binary_vars = list(set(df.keys()) - set([categorical_var, 'NOMBRE']))"
   ]
  },
  {
   "cell_type": "code",
   "execution_count": null,
   "metadata": {
    "collapsed": true
   },
   "outputs": [],
   "source": [
    "#  *** Escribe tu codigo aquí ***\n",
    "# Para las variables booleanas calculamos la suma\n",
    "\n",
    "\n"
   ]
  },
  {
   "cell_type": "code",
   "execution_count": null,
   "metadata": {
    "collapsed": true
   },
   "outputs": [],
   "source": [
    "#  *** Escribe tu codigo aquí ***\n",
    "# Para las variables categoricas, observamos la frecuencia de cada categoría\n",
    "\n",
    "\n"
   ]
  },
  {
   "cell_type": "markdown",
   "metadata": {},
   "source": [
    "### Pregunta, ¿cuántas personas tienen la boca grande? "
   ]
  },
  {
   "cell_type": "code",
   "execution_count": null,
   "metadata": {
    "collapsed": true
   },
   "outputs": [],
   "source": [
    "#  *** Escribe tu codigo aquí ***\n",
    "\n"
   ]
  },
  {
   "cell_type": "markdown",
   "metadata": {},
   "source": [
    "### y cuántos de estos son hombres?"
   ]
  },
  {
   "cell_type": "code",
   "execution_count": null,
   "metadata": {
    "collapsed": true
   },
   "outputs": [],
   "source": [
    "#  *** Escribe tu codigo aquí ***\n",
    "\n"
   ]
  },
  {
   "cell_type": "markdown",
   "metadata": {},
   "source": [
    "# 3. Separamos el target de los features"
   ]
  },
  {
   "cell_type": "code",
   "execution_count": null,
   "metadata": {
    "collapsed": false
   },
   "outputs": [],
   "source": [
    "labels = df['NOMBRE']\n",
    "del df['NOMBRE'] \n",
    "df.head()"
   ]
  },
  {
   "cell_type": "code",
   "execution_count": null,
   "metadata": {
    "collapsed": false
   },
   "outputs": [],
   "source": [
    "# inspección del target\n"
   ]
  },
  {
   "cell_type": "markdown",
   "metadata": {},
   "source": [
    "# 4. Codificación de variables categóricas"
   ]
  },
  {
   "cell_type": "code",
   "execution_count": null,
   "metadata": {
    "collapsed": false
   },
   "outputs": [],
   "source": [
    "from sklearn.feature_extraction import DictVectorizer\n",
    "vectorizer = DictVectorizer(sparse=False)\n",
    "ab=vectorizer.fit_transform(df.to_dict('records'))\n",
    "dft = pd.DataFrame(ab, columns=vectorizer.get_feature_names())\n",
    "dft.head().T"
   ]
  },
  {
   "cell_type": "markdown",
   "metadata": {},
   "source": [
    "# 5. Entrenando un arbol de decisión"
   ]
  },
  {
   "cell_type": "code",
   "execution_count": null,
   "metadata": {
    "collapsed": false
   },
   "outputs": [],
   "source": [
    "from sklearn.tree import DecisionTreeClassifier\n",
    "\n",
    "clasificador = DecisionTreeClassifier(criterion='entropy', random_state=42)\n",
    "clasificador.fit(dft, labels)"
   ]
  },
  {
   "cell_type": "markdown",
   "metadata": {},
   "source": [
    "## 5.1 Obtención de los pesos de cada feature"
   ]
  },
  {
   "cell_type": "code",
   "execution_count": null,
   "metadata": {
    "collapsed": true
   },
   "outputs": [],
   "source": [
    "feat = pd.DataFrame(index=dft.keys(), data=clasificador.feature_importances_, columns=['score'])\n",
    "feat = feat.sort_values(by='score', ascending=False)"
   ]
  },
  {
   "cell_type": "code",
   "execution_count": null,
   "metadata": {
    "collapsed": false
   },
   "outputs": [],
   "source": [
    "# grafica feat, para ver las variables mas relevantes\n",
    "\n",
    "\n"
   ]
  },
  {
   "cell_type": "markdown",
   "metadata": {},
   "source": [
    "# 6. Visualizando el arbol (requiere graphviz)\n",
    "Si no lo tienes instalado, puedes ejecutar\n",
    "```\n",
    "conda install graphviz\n",
    "```\n",
    "en una terminal"
   ]
  },
  {
   "cell_type": "code",
   "execution_count": null,
   "metadata": {
    "collapsed": false
   },
   "outputs": [],
   "source": [
    "from sklearn.tree import export_graphviz\n",
    "dotfile = open('quien_es_quien_tree.dot', 'w')\n",
    "export_graphviz(\n",
    "    clasificador, \n",
    "    out_file = dotfile, \n",
    "    filled=True, \n",
    "    feature_names = dft.columns, \n",
    "    class_names=list(labels), \n",
    "    rotate=True, \n",
    "    max_depth=None, \n",
    "    rounded=True,\n",
    ")\n",
    "dotfile.close()\n",
    "!dot -Tpng quien_es_quien_tree.dot -o quien_es_quien_tree.png\n",
    "Image('quien_es_quien_tree.png', width=1000)"
   ]
  },
  {
   "cell_type": "markdown",
   "metadata": {},
   "source": [
    "# 7. Es la hora de jugar!"
   ]
  },
  {
   "cell_type": "code",
   "execution_count": null,
   "metadata": {
    "collapsed": false
   },
   "outputs": [],
   "source": [
    "# Elige un personaje por su numero de observacion\n",
    "observacion_numero = 17\n",
    "mi_personaje = dft.iloc[observacion_numero]\n",
    "mi_personaje"
   ]
  },
  {
   "cell_type": "code",
   "execution_count": null,
   "metadata": {
    "collapsed": false
   },
   "outputs": [],
   "source": [
    "personaje = clasificador.predict(mi_personaje)[0]\n",
    "print('El personaje elegido es: ' + personaje + ' y en realidad es: ' + labels[observacion_numero+1])"
   ]
  },
  {
   "cell_type": "markdown",
   "metadata": {},
   "source": [
    "# 8. Esto se pone mejor!!!\n",
    "probemos otro clasificador del sklearn"
   ]
  },
  {
   "cell_type": "code",
   "execution_count": null,
   "metadata": {
    "collapsed": false
   },
   "outputs": [],
   "source": [
    "from sklearn.ensemble import RandomForestClassifier\n",
    "rfc = RandomForestClassifier(criterion='entropy', random_state=42)\n",
    "rfc.fit(dft, labels)"
   ]
  },
  {
   "cell_type": "markdown",
   "metadata": {},
   "source": [
    "#### Ahora creamos un nuevo personaje, con las caracteristicas que queramos..."
   ]
  },
  {
   "cell_type": "code",
   "execution_count": null,
   "metadata": {
    "collapsed": false
   },
   "outputs": [],
   "source": [
    "new_per = np.zeros(len(dft.keys()))\n",
    "nuevo_personaje = pd.DataFrame(index=dft.keys(), data=new_per, columns=['features']).T\n",
    "nuevo_personaje.T"
   ]
  },
  {
   "cell_type": "code",
   "execution_count": null,
   "metadata": {
    "collapsed": true
   },
   "outputs": [],
   "source": [
    "def modifica_feature_de_personaje(data, feature, nuevo_valor=1.0):\n",
    "    data[feature] = nuevo_valor\n",
    "    return data"
   ]
  },
  {
   "cell_type": "code",
   "execution_count": null,
   "metadata": {
    "collapsed": false
   },
   "outputs": [],
   "source": [
    "Image('data/guess_who_board.jpg', width=700)"
   ]
  },
  {
   "cell_type": "markdown",
   "metadata": {},
   "source": [
    "#### podemos modificar los features de nuestro personaje, llamando a la funcion modifica_feature_de_personaje"
   ]
  },
  {
   "cell_type": "code",
   "execution_count": null,
   "metadata": {
    "collapsed": false
   },
   "outputs": [],
   "source": [
    "nuevo_personaje = modifica_feature_de_personaje(nuevo_personaje, 'bigote', 1.0)\n",
    "nuevo_personaje.T"
   ]
  },
  {
   "cell_type": "markdown",
   "metadata": {},
   "source": [
    "#### Comparemos que dice cada clasificador"
   ]
  },
  {
   "cell_type": "code",
   "execution_count": null,
   "metadata": {
    "collapsed": false
   },
   "outputs": [],
   "source": [
    "print('El arbol de decision dice que es: ' + clasificador.predict(nuevo_personaje)[0])"
   ]
  },
  {
   "cell_type": "code",
   "execution_count": null,
   "metadata": {
    "collapsed": false
   },
   "outputs": [],
   "source": [
    "print('El random forest cree que es: ' + rfc.predict(nuevo_personaje)[0])"
   ]
  },
  {
   "cell_type": "markdown",
   "metadata": {},
   "source": [
    "### Veamos las probailidades del random forest"
   ]
  },
  {
   "cell_type": "code",
   "execution_count": null,
   "metadata": {
    "collapsed": false
   },
   "outputs": [],
   "source": [
    "ind = range(24)\n",
    "plt.bar(ind,rfc.predict_proba(nuevo_personaje)[0])\n",
    "plt.xticks(ind, labels.values, rotation='vertical')\n",
    "plt.show()"
   ]
  },
  {
   "cell_type": "markdown",
   "metadata": {},
   "source": [
    "# Fin del notebook!"
   ]
  }
 ],
 "metadata": {
  "kernelspec": {
   "display_name": "Python 2",
   "language": "python",
   "name": "python2"
  },
  "language_info": {
   "codemirror_mode": {
    "name": "ipython",
    "version": 2
   },
   "file_extension": ".py",
   "mimetype": "text/x-python",
   "name": "python",
   "nbconvert_exporter": "python",
   "pygments_lexer": "ipython2",
   "version": "2.7.13"
  }
 },
 "nbformat": 4,
 "nbformat_minor": 2
}
