{
 "cells": [
  {
   "cell_type": "markdown",
   "metadata": {
    "deletable": true,
    "editable": true
   },
   "source": [
    "# Perros o gatos?\n",
    "***Por Miguel Escalona***\n",
    "\n",
    "                                                                                            Edición Febrero 2017"
   ]
  },
  {
   "cell_type": "markdown",
   "metadata": {
    "deletable": true,
    "editable": true
   },
   "source": [
    "### Inicio del notebook\n",
    "Para iniciar cualquier notebook, comenzaremos por invocar los módulos necesarios para su desarrollo. Para esto utilizaremos el comando ***import*** seguido del nombre del módulo. Cuando queramos utilizar una función interna del módulo, debemos escribir su nombre antes de la función. Por ejemplo:\n",
    "```python\n",
    "import modulo\n",
    "modulo.funcion()\n",
    "```\n",
    "en el caso en que no queramos escribir el nombre completo de un modulo, podemos colocar con alias con el comando ***as***\n",
    "```python\n",
    "import modulo as md\n",
    "md.funcion\n",
    "```\n",
    "finalmente, si solo queremos acceder de forma directa a todas las funciones internas del módulo sin necesidad de escribir su nombre (ni el alias) cada vez, podemos escribir\n",
    "```python\n",
    "from modulo import *\n",
    "```\n",
    "lo cual cargará todas las funciones del módulo sobrecargando aquellas funciones ya definidas en el código que tengan el mismo nombre. \n",
    "\n",
    "<p class=\"alert alert-danger\">Este último método, aunque cómodo, es el menos aconsejable de todos</span>."
   ]
  },
  {
   "cell_type": "code",
   "execution_count": 1,
   "metadata": {
    "collapsed": true,
    "deletable": true,
    "editable": true
   },
   "outputs": [],
   "source": [
    "import pandas as pd  # Cargamos pandas con el alias pd"
   ]
  },
  {
   "cell_type": "markdown",
   "metadata": {
    "deletable": true,
    "editable": true
   },
   "source": [
    "# Un problema de clasificación: ¿perro o gato?\n",
    "En este notebook resolveremos un problema simple de clasificación que deja en evidencia conceptos básicos de Machine Learning (ML).\n",
    "El problema planteado consiste en identificar la **especie** del animal (perro o gato) basados en tres características: ¿el animal busca la pelota cuando se la lanzamos?, ¿el animal suele ser apático? y ¿el animal disfruta más de la comida de perro, de la de gato o del bacon?"
   ]
  },
  {
   "cell_type": "markdown",
   "metadata": {
    "deletable": true,
    "editable": true
   },
   "source": [
    "# Cargando los datos\n",
    "\n",
    "Para la carga de datos usaremos la función `read_csv` de pandas. Pandas cuenta con un amplio listado de funciones para la carga de datos. Mas informacion en la [documentación de la API.](http://pandas.pydata.org/pandas-docs/stable/io.html) "
   ]
  },
  {
   "cell_type": "code",
   "execution_count": 2,
   "metadata": {
    "collapsed": false,
    "deletable": true,
    "editable": true
   },
   "outputs": [
    {
     "name": "stdout",
     "output_type": "stream",
     "text": [
      "Estos datos han sido tomados del libro Mastering machine learning with scikit-learn de Gavin Hackeling, PACKT publishing open source, pp. 99\n"
     ]
    },
    {
     "data": {
      "text/html": [
       "<div>\n",
       "<table border=\"1\" class=\"dataframe\">\n",
       "  <thead>\n",
       "    <tr style=\"text-align: right;\">\n",
       "      <th></th>\n",
       "      <th>juega al busca</th>\n",
       "      <th>apatico</th>\n",
       "      <th>comida favorita</th>\n",
       "      <th>especie</th>\n",
       "    </tr>\n",
       "    <tr>\n",
       "      <th>observacion</th>\n",
       "      <th></th>\n",
       "      <th></th>\n",
       "      <th></th>\n",
       "      <th></th>\n",
       "    </tr>\n",
       "  </thead>\n",
       "  <tbody>\n",
       "    <tr>\n",
       "      <th>1</th>\n",
       "      <td>True</td>\n",
       "      <td>False</td>\n",
       "      <td>comida de perro</td>\n",
       "      <td>perro</td>\n",
       "    </tr>\n",
       "    <tr>\n",
       "      <th>2</th>\n",
       "      <td>True</td>\n",
       "      <td>False</td>\n",
       "      <td>bacon</td>\n",
       "      <td>perro</td>\n",
       "    </tr>\n",
       "    <tr>\n",
       "      <th>3</th>\n",
       "      <td>False</td>\n",
       "      <td>False</td>\n",
       "      <td>comida de gato</td>\n",
       "      <td>gato</td>\n",
       "    </tr>\n",
       "    <tr>\n",
       "      <th>4</th>\n",
       "      <td>True</td>\n",
       "      <td>True</td>\n",
       "      <td>comida de gato</td>\n",
       "      <td>gato</td>\n",
       "    </tr>\n",
       "    <tr>\n",
       "      <th>5</th>\n",
       "      <td>True</td>\n",
       "      <td>True</td>\n",
       "      <td>bacon</td>\n",
       "      <td>perro</td>\n",
       "    </tr>\n",
       "    <tr>\n",
       "      <th>6</th>\n",
       "      <td>True</td>\n",
       "      <td>False</td>\n",
       "      <td>bacon</td>\n",
       "      <td>perro</td>\n",
       "    </tr>\n",
       "    <tr>\n",
       "      <th>7</th>\n",
       "      <td>False</td>\n",
       "      <td>True</td>\n",
       "      <td>comida de perro</td>\n",
       "      <td>perro</td>\n",
       "    </tr>\n",
       "    <tr>\n",
       "      <th>8</th>\n",
       "      <td>False</td>\n",
       "      <td>True</td>\n",
       "      <td>comida de gato</td>\n",
       "      <td>gato</td>\n",
       "    </tr>\n",
       "    <tr>\n",
       "      <th>9</th>\n",
       "      <td>False</td>\n",
       "      <td>True</td>\n",
       "      <td>bacon</td>\n",
       "      <td>gato</td>\n",
       "    </tr>\n",
       "    <tr>\n",
       "      <th>10</th>\n",
       "      <td>False</td>\n",
       "      <td>True</td>\n",
       "      <td>comida de gato</td>\n",
       "      <td>gato</td>\n",
       "    </tr>\n",
       "    <tr>\n",
       "      <th>11</th>\n",
       "      <td>False</td>\n",
       "      <td>True</td>\n",
       "      <td>bacon</td>\n",
       "      <td>gato</td>\n",
       "    </tr>\n",
       "    <tr>\n",
       "      <th>12</th>\n",
       "      <td>False</td>\n",
       "      <td>True</td>\n",
       "      <td>comida de gato</td>\n",
       "      <td>gato</td>\n",
       "    </tr>\n",
       "    <tr>\n",
       "      <th>13</th>\n",
       "      <td>False</td>\n",
       "      <td>False</td>\n",
       "      <td>comida de perro</td>\n",
       "      <td>perro</td>\n",
       "    </tr>\n",
       "    <tr>\n",
       "      <th>14</th>\n",
       "      <td>False</td>\n",
       "      <td>True</td>\n",
       "      <td>comida de gato</td>\n",
       "      <td>gato</td>\n",
       "    </tr>\n",
       "  </tbody>\n",
       "</table>\n",
       "</div>"
      ],
      "text/plain": [
       "            juega al busca apatico  comida favorita especie\n",
       "observacion                                                \n",
       "1                     True   False  comida de perro   perro\n",
       "2                     True   False            bacon   perro\n",
       "3                    False   False   comida de gato    gato\n",
       "4                     True    True   comida de gato    gato\n",
       "5                     True    True            bacon   perro\n",
       "6                     True   False            bacon   perro\n",
       "7                    False    True  comida de perro   perro\n",
       "8                    False    True   comida de gato    gato\n",
       "9                    False    True            bacon    gato\n",
       "10                   False    True   comida de gato    gato\n",
       "11                   False    True            bacon    gato\n",
       "12                   False    True   comida de gato    gato\n",
       "13                   False   False  comida de perro   perro\n",
       "14                   False    True   comida de gato    gato"
      ]
     },
     "execution_count": 2,
     "metadata": {},
     "output_type": "execute_result"
    }
   ],
   "source": [
    "dfl = pd.read_csv('data/perros_o_gatos.csv', index_col='observacion')\n",
    "print('Estos datos han sido tomados del libro Mastering machine learning with scikit-learn de Gavin Hackeling, \\\n",
    "PACKT publishing open source, pp. 99')\n",
    "dfl  # En jupyter al escribir una variable sin mas, la celda nos devuelve su contenido."
   ]
  },
  {
   "cell_type": "markdown",
   "metadata": {
    "deletable": true,
    "editable": true
   },
   "source": [
    "Los datos se componen de **observaciones** numeradas del 1 al 14 y 3 **features** o características representadas en las columnas (también se les conocen como inputs). La columna **especie** es la respuesta a nuestro problema, por lo que no representa un feature. Esto quiere decir que solo la usaremos para saber si el algoritmo de machine learning está haciendo una buena clasificación o no. A esta columna (especie) se la suele llamar *target*, *label*, *output* o *y*.\n",
    "\n",
    "### Aprendizaje supervisado (supervised learning)\n",
    "\n",
    "Se dice que un problema de machine learning es supervisado si dentro de los datos tenemos el **target**, por lo que podemos evaluar a nuestro algoritmo durante su entrenamiento.\n",
    "\n",
    "### Aprendizaje no supervisado (unsupervised learning)\n",
    "\n",
    "Si no contamos con las etiquetas o **labels** estaremos ante un problema no supervisado. El algoritmo deberá encontrar por sí mismo los patrones que puedan diferenciar los datos. \n",
    "Un ejemplo de este tipo de problemas es cuando queremos reconocer objetos en una imagen. Nuestro algoritmo intentará segmentar los diferentes objetos, usando por ejemplo sus contornos, pero sin conocer la forma exacta o el objeto que debe identificar. "
   ]
  },
  {
   "cell_type": "markdown",
   "metadata": {
    "deletable": true,
    "editable": true
   },
   "source": [
    "# Mini Exploratory Data Analisys (EDA)"
   ]
  },
  {
   "cell_type": "code",
   "execution_count": 3,
   "metadata": {
    "collapsed": false,
    "deletable": true,
    "editable": true
   },
   "outputs": [
    {
     "data": {
      "text/html": [
       "<div>\n",
       "<table border=\"1\" class=\"dataframe\">\n",
       "  <thead>\n",
       "    <tr style=\"text-align: right;\">\n",
       "      <th></th>\n",
       "      <th>juega al busca</th>\n",
       "      <th>apatico</th>\n",
       "      <th>comida favorita</th>\n",
       "      <th>especie</th>\n",
       "    </tr>\n",
       "  </thead>\n",
       "  <tbody>\n",
       "    <tr>\n",
       "      <th>count</th>\n",
       "      <td>14</td>\n",
       "      <td>14</td>\n",
       "      <td>14</td>\n",
       "      <td>14</td>\n",
       "    </tr>\n",
       "    <tr>\n",
       "      <th>unique</th>\n",
       "      <td>2</td>\n",
       "      <td>2</td>\n",
       "      <td>3</td>\n",
       "      <td>2</td>\n",
       "    </tr>\n",
       "    <tr>\n",
       "      <th>top</th>\n",
       "      <td>False</td>\n",
       "      <td>True</td>\n",
       "      <td>comida de gato</td>\n",
       "      <td>gato</td>\n",
       "    </tr>\n",
       "    <tr>\n",
       "      <th>freq</th>\n",
       "      <td>9</td>\n",
       "      <td>9</td>\n",
       "      <td>6</td>\n",
       "      <td>8</td>\n",
       "    </tr>\n",
       "  </tbody>\n",
       "</table>\n",
       "</div>"
      ],
      "text/plain": [
       "       juega al busca apatico comida favorita especie\n",
       "count              14      14              14      14\n",
       "unique              2       2               3       2\n",
       "top             False    True  comida de gato    gato\n",
       "freq                9       9               6       8"
      ]
     },
     "execution_count": 3,
     "metadata": {},
     "output_type": "execute_result"
    }
   ],
   "source": [
    "dfl.describe()"
   ]
  },
  {
   "cell_type": "markdown",
   "metadata": {
    "deletable": true,
    "editable": true
   },
   "source": [
    "#### Suma, media, mediana y desviación estándard (sum, mean, median, std)\n",
    "¿Cuántos animales juegan al busca? "
   ]
  },
  {
   "cell_type": "code",
   "execution_count": 6,
   "metadata": {
    "collapsed": false,
    "deletable": true,
    "editable": true
   },
   "outputs": [
    {
     "data": {
      "text/plain": [
       "5"
      ]
     },
     "execution_count": 6,
     "metadata": {},
     "output_type": "execute_result"
    }
   ],
   "source": [
    "dfl['juega al busca'].sum()"
   ]
  },
  {
   "cell_type": "markdown",
   "metadata": {
    "deletable": true,
    "editable": true
   },
   "source": [
    "#### Filtros de pandas\n",
    "y cuantos de estos son perros?"
   ]
  },
  {
   "cell_type": "code",
   "execution_count": 4,
   "metadata": {
    "collapsed": false,
    "deletable": true,
    "editable": true
   },
   "outputs": [
    {
     "data": {
      "text/plain": [
       "4"
      ]
     },
     "execution_count": 4,
     "metadata": {},
     "output_type": "execute_result"
    }
   ],
   "source": [
    "dfl.loc[dfl['especie']=='perro','juega al busca'].sum()"
   ]
  },
  {
   "cell_type": "markdown",
   "metadata": {
    "deletable": true,
    "editable": true
   },
   "source": [
    "### Separemos la columna *especies* para no confundirla "
   ]
  },
  {
   "cell_type": "code",
   "execution_count": 5,
   "metadata": {
    "collapsed": false,
    "deletable": true,
    "editable": true
   },
   "outputs": [
    {
     "data": {
      "text/html": [
       "<div>\n",
       "<table border=\"1\" class=\"dataframe\">\n",
       "  <thead>\n",
       "    <tr style=\"text-align: right;\">\n",
       "      <th></th>\n",
       "      <th>juega al busca</th>\n",
       "      <th>apatico</th>\n",
       "      <th>comida favorita</th>\n",
       "    </tr>\n",
       "    <tr>\n",
       "      <th>observacion</th>\n",
       "      <th></th>\n",
       "      <th></th>\n",
       "      <th></th>\n",
       "    </tr>\n",
       "  </thead>\n",
       "  <tbody>\n",
       "    <tr>\n",
       "      <th>1</th>\n",
       "      <td>True</td>\n",
       "      <td>False</td>\n",
       "      <td>comida de perro</td>\n",
       "    </tr>\n",
       "    <tr>\n",
       "      <th>2</th>\n",
       "      <td>True</td>\n",
       "      <td>False</td>\n",
       "      <td>bacon</td>\n",
       "    </tr>\n",
       "    <tr>\n",
       "      <th>3</th>\n",
       "      <td>False</td>\n",
       "      <td>False</td>\n",
       "      <td>comida de gato</td>\n",
       "    </tr>\n",
       "    <tr>\n",
       "      <th>4</th>\n",
       "      <td>True</td>\n",
       "      <td>True</td>\n",
       "      <td>comida de gato</td>\n",
       "    </tr>\n",
       "    <tr>\n",
       "      <th>5</th>\n",
       "      <td>True</td>\n",
       "      <td>True</td>\n",
       "      <td>bacon</td>\n",
       "    </tr>\n",
       "    <tr>\n",
       "      <th>6</th>\n",
       "      <td>True</td>\n",
       "      <td>False</td>\n",
       "      <td>bacon</td>\n",
       "    </tr>\n",
       "    <tr>\n",
       "      <th>7</th>\n",
       "      <td>False</td>\n",
       "      <td>True</td>\n",
       "      <td>comida de perro</td>\n",
       "    </tr>\n",
       "    <tr>\n",
       "      <th>8</th>\n",
       "      <td>False</td>\n",
       "      <td>True</td>\n",
       "      <td>comida de gato</td>\n",
       "    </tr>\n",
       "    <tr>\n",
       "      <th>9</th>\n",
       "      <td>False</td>\n",
       "      <td>True</td>\n",
       "      <td>bacon</td>\n",
       "    </tr>\n",
       "    <tr>\n",
       "      <th>10</th>\n",
       "      <td>False</td>\n",
       "      <td>True</td>\n",
       "      <td>comida de gato</td>\n",
       "    </tr>\n",
       "    <tr>\n",
       "      <th>11</th>\n",
       "      <td>False</td>\n",
       "      <td>True</td>\n",
       "      <td>bacon</td>\n",
       "    </tr>\n",
       "    <tr>\n",
       "      <th>12</th>\n",
       "      <td>False</td>\n",
       "      <td>True</td>\n",
       "      <td>comida de gato</td>\n",
       "    </tr>\n",
       "    <tr>\n",
       "      <th>13</th>\n",
       "      <td>False</td>\n",
       "      <td>False</td>\n",
       "      <td>comida de perro</td>\n",
       "    </tr>\n",
       "    <tr>\n",
       "      <th>14</th>\n",
       "      <td>False</td>\n",
       "      <td>True</td>\n",
       "      <td>comida de gato</td>\n",
       "    </tr>\n",
       "  </tbody>\n",
       "</table>\n",
       "</div>"
      ],
      "text/plain": [
       "            juega al busca apatico  comida favorita\n",
       "observacion                                        \n",
       "1                     True   False  comida de perro\n",
       "2                     True   False            bacon\n",
       "3                    False   False   comida de gato\n",
       "4                     True    True   comida de gato\n",
       "5                     True    True            bacon\n",
       "6                     True   False            bacon\n",
       "7                    False    True  comida de perro\n",
       "8                    False    True   comida de gato\n",
       "9                    False    True            bacon\n",
       "10                   False    True   comida de gato\n",
       "11                   False    True            bacon\n",
       "12                   False    True   comida de gato\n",
       "13                   False   False  comida de perro\n",
       "14                   False    True   comida de gato"
      ]
     },
     "execution_count": 5,
     "metadata": {},
     "output_type": "execute_result"
    }
   ],
   "source": [
    "labels = dfl['especie']\n",
    "df = dfl[['juega al busca', 'apatico', 'comida favorita']]\n",
    "df"
   ]
  },
  {
   "cell_type": "code",
   "execution_count": 6,
   "metadata": {
    "collapsed": false,
    "deletable": true,
    "editable": true
   },
   "outputs": [
    {
     "data": {
      "text/plain": [
       "observacion\n",
       "1     perro\n",
       "2     perro\n",
       "3      gato\n",
       "4      gato\n",
       "5     perro\n",
       "6     perro\n",
       "7     perro\n",
       "8      gato\n",
       "9      gato\n",
       "10     gato\n",
       "11     gato\n",
       "12     gato\n",
       "13    perro\n",
       "14     gato\n",
       "Name: especie, dtype: object"
      ]
     },
     "execution_count": 6,
     "metadata": {},
     "output_type": "execute_result"
    }
   ],
   "source": [
    "labels "
   ]
  },
  {
   "cell_type": "markdown",
   "metadata": {
    "deletable": true,
    "editable": true
   },
   "source": [
    "### ¡La variable *comida favorita* es del tipo categórica!\n",
    "Esta variable tiene tres valores posibles. Para conocer con qué frecuencia aparece cada valor podemos utilizar el método `value_counts()` del dataframe"
   ]
  },
  {
   "cell_type": "code",
   "execution_count": 7,
   "metadata": {
    "collapsed": false,
    "deletable": true,
    "editable": true
   },
   "outputs": [
    {
     "data": {
      "text/plain": [
       "comida de gato     6\n",
       "bacon              5\n",
       "comida de perro    3\n",
       "Name: comida favorita, dtype: int64"
      ]
     },
     "execution_count": 7,
     "metadata": {},
     "output_type": "execute_result"
    }
   ],
   "source": [
    "df['comida favorita'].value_counts()"
   ]
  },
  {
   "cell_type": "markdown",
   "metadata": {
    "deletable": true,
    "editable": true
   },
   "source": [
    "### Codificación de variables categóricas\n",
    "Las variables categóricas deben ser convertidas a numéricas para poder ser interpretadas por el algorítmo de machine learning. La codificación más natural sería:\n",
    "\n",
    "```\n",
    "| comida favorita | valor   |\n",
    "|-----------------|---------|\n",
    "|comida de gato   |    0    |\n",
    "|comida de perro  |    1    |\n",
    "|bacon            |    2    |\n",
    "-----------------------------\n",
    "\n",
    "```\n",
    "Sin embargo, esta codificación asigna un orden *artificial* a las variables. Nuestro ordenador sabe que *0 < 1 < 2*, por lo que asociará que\n",
    "\n",
    "*comida de gato < comida de perro < bacon*.\n",
    "\n",
    "### Codificacion one-Hot\n",
    "Este tipo de codificación representa la columna *comida favorita* en tres columnas de 0 o 1 de la siguiente manera\n",
    "```\n",
    "| comida favorita | comida favorita=comida de gato | comida favorita=comida de perro | comida favorita=bacon | \n",
    "|-----------------|--------------------------------|---------------------------------|-----------------------|\n",
    "|comida de gato   |                1               |                0                |            0          |\n",
    "|comida de perro  |                0               |                1                |            0          |\n",
    "|bacon            |                0               |                0                |            1          |\n",
    "--------------------------------------------------------------------------------------------------------------\n",
    "```\n",
    "Atención, se debe tener cuidado cuando se desee utilizar este tipo de codificación en datasets (muy) grandes en el que  el némero de categorías son cientos o miles, pues cada categoría generará una nueva columna en nuestro dataset."
   ]
  },
  {
   "cell_type": "markdown",
   "metadata": {
    "deletable": true,
    "editable": true
   },
   "source": [
    "# All you need is... scikit-learn (sklearn) ... well, not really.\n",
    "El módulo scikit-learn contiene una gran mayoría de las herramientas que necesitamos para resolver un problema típico de machine learning. Aquí podemos encontrar algorítmos de clasificación, regresión, clustering; además de métodos para el preprocesado de datos. Mas información en el [sitio oficial de scikit-learn](http://scikit-learn.org/stable/).\n",
    "\n",
    "Para cargar este módulo usaremos el comando\n",
    "```python\n",
    "import sklearn\n",
    "```\n",
    "en lugar de usar su nombre completo.\n",
    "\n",
    "Otra forma de cargar funciones de un módulo es hacer referencia a la función directamente:\n",
    "```python\n",
    "from sklearn.preprocessing import OneHotEncoder\n",
    "```\n",
    "A pesar de que la función `OneHotEncoder` existe en sklearn, nosotros utilizaremos otra función llamada `DictVectorizer`. Esta función recibe como entrada variables numéricas y/o categóricas y devuelve las variables numéricas como flotantes y a las categóricas le aplica la codificación one-hot.\n",
    "\n",
    "Nota: la función `DictVectorizer` no respeta el orden de entrada de las columnas pudiendo devolver un dataframe con otro orden de columnas. Para que respete el orden de las filas, debemos especificar el parámetro **`orient='records'`**"
   ]
  },
  {
   "cell_type": "code",
   "execution_count": 10,
   "metadata": {
    "collapsed": false
   },
   "outputs": [
    {
     "data": {
      "text/plain": [
       "array([[ 0.,  0.,  0.,  1.,  1.],\n",
       "       [ 0.,  1.,  0.,  0.,  1.],\n",
       "       [ 0.,  0.,  1.,  0.,  0.],\n",
       "       [ 1.,  0.,  1.,  0.,  1.],\n",
       "       [ 1.,  1.,  0.,  0.,  1.],\n",
       "       [ 0.,  1.,  0.,  0.,  1.],\n",
       "       [ 1.,  0.,  0.,  1.,  0.],\n",
       "       [ 1.,  0.,  1.,  0.,  0.],\n",
       "       [ 1.,  1.,  0.,  0.,  0.],\n",
       "       [ 1.,  0.,  1.,  0.,  0.],\n",
       "       [ 1.,  1.,  0.,  0.,  0.],\n",
       "       [ 1.,  0.,  1.,  0.,  0.],\n",
       "       [ 0.,  0.,  0.,  1.,  0.],\n",
       "       [ 1.,  0.,  1.,  0.,  0.]])"
      ]
     },
     "execution_count": 10,
     "metadata": {},
     "output_type": "execute_result"
    }
   ],
   "source": [
    "from sklearn.feature_extraction import DictVectorizer\n",
    "vectorizer = DictVectorizer(sparse=False)\n",
    "ab=vectorizer.fit_transform(df.to_dict(orient='records'))\n",
    "ab"
   ]
  },
  {
   "cell_type": "code",
   "execution_count": 11,
   "metadata": {
    "collapsed": false
   },
   "outputs": [
    {
     "data": {
      "text/plain": [
       "observacion\n",
       "1     1\n",
       "2     1\n",
       "3     0\n",
       "4     0\n",
       "5     1\n",
       "6     1\n",
       "7     1\n",
       "8     0\n",
       "9     0\n",
       "10    0\n",
       "11    0\n",
       "12    0\n",
       "13    1\n",
       "14    0\n",
       "Name: especie, dtype: int64"
      ]
     },
     "execution_count": 11,
     "metadata": {},
     "output_type": "execute_result"
    }
   ],
   "source": [
    "labels.map(lambda x: 1 if x=='perro' else 0)"
   ]
  },
  {
   "cell_type": "code",
   "execution_count": 12,
   "metadata": {
    "collapsed": false,
    "deletable": true,
    "editable": true
   },
   "outputs": [
    {
     "data": {
      "text/html": [
       "<div>\n",
       "<table border=\"1\" class=\"dataframe\">\n",
       "  <thead>\n",
       "    <tr style=\"text-align: right;\">\n",
       "      <th></th>\n",
       "      <th>apatico</th>\n",
       "      <th>comida favorita=bacon</th>\n",
       "      <th>comida favorita=comida de gato</th>\n",
       "      <th>comida favorita=comida de perro</th>\n",
       "      <th>juega al busca</th>\n",
       "    </tr>\n",
       "  </thead>\n",
       "  <tbody>\n",
       "    <tr>\n",
       "      <th>0</th>\n",
       "      <td>0.0</td>\n",
       "      <td>0.0</td>\n",
       "      <td>0.0</td>\n",
       "      <td>1.0</td>\n",
       "      <td>1.0</td>\n",
       "    </tr>\n",
       "    <tr>\n",
       "      <th>1</th>\n",
       "      <td>0.0</td>\n",
       "      <td>1.0</td>\n",
       "      <td>0.0</td>\n",
       "      <td>0.0</td>\n",
       "      <td>1.0</td>\n",
       "    </tr>\n",
       "    <tr>\n",
       "      <th>2</th>\n",
       "      <td>0.0</td>\n",
       "      <td>0.0</td>\n",
       "      <td>1.0</td>\n",
       "      <td>0.0</td>\n",
       "      <td>0.0</td>\n",
       "    </tr>\n",
       "    <tr>\n",
       "      <th>3</th>\n",
       "      <td>1.0</td>\n",
       "      <td>0.0</td>\n",
       "      <td>1.0</td>\n",
       "      <td>0.0</td>\n",
       "      <td>1.0</td>\n",
       "    </tr>\n",
       "    <tr>\n",
       "      <th>4</th>\n",
       "      <td>1.0</td>\n",
       "      <td>1.0</td>\n",
       "      <td>0.0</td>\n",
       "      <td>0.0</td>\n",
       "      <td>1.0</td>\n",
       "    </tr>\n",
       "  </tbody>\n",
       "</table>\n",
       "</div>"
      ],
      "text/plain": [
       "   apatico  comida favorita=bacon  comida favorita=comida de gato  \\\n",
       "0      0.0                    0.0                             0.0   \n",
       "1      0.0                    1.0                             0.0   \n",
       "2      0.0                    0.0                             1.0   \n",
       "3      1.0                    0.0                             1.0   \n",
       "4      1.0                    1.0                             0.0   \n",
       "\n",
       "   comida favorita=comida de perro  juega al busca  \n",
       "0                              1.0             1.0  \n",
       "1                              0.0             1.0  \n",
       "2                              0.0             0.0  \n",
       "3                              0.0             1.0  \n",
       "4                              0.0             1.0  "
      ]
     },
     "execution_count": 12,
     "metadata": {},
     "output_type": "execute_result"
    }
   ],
   "source": [
    "from sklearn.feature_extraction import DictVectorizer\n",
    "vectorizer = DictVectorizer(sparse=False)\n",
    "ab=vectorizer.fit_transform(df.to_dict(orient='records'))\n",
    "dft = pd.DataFrame(ab, columns=vectorizer.get_feature_names())\n",
    "dft.head()"
   ]
  },
  {
   "cell_type": "markdown",
   "metadata": {
    "deletable": true,
    "editable": true
   },
   "source": [
    "De esta forma, nuestro dataframe ya está preparado para ser utilizado por cualquiera de los algoritmos de clasificación de scikit-learn. \n",
    "\n",
    "# Algoritmo de clasificación: Arbol de decisión\n",
    "\n",
    "Un árbol de clasificación divide los datos en subconjuntos cada vez mas pequeños para ir determinando la clase a la cual pertenecen.  Básicamente, lo que hace este algoritmo es buscar la pregunta necesaria para poder separar la mayor cantidad de datos en dos grupos. Luego, vuelve a buscar la siguiente pregunta que romperá mejor al subgrupo y así, sucesivamente, hasta reducir los grupos lo suficiente hasta que quedemos satisfechos. "
   ]
  },
  {
   "cell_type": "markdown",
   "metadata": {
    "deletable": true,
    "editable": true
   },
   "source": [
    "## Las preguntas\n",
    "Para este ejemplo tenemos tantas preguntas posibles como features. Por ejemplo, podemos preguntar:\n",
    "* El animal juega al busca, ¿si o no?\n",
    "* El animal es apático, ¿si o no?\n",
    "* ¿le gusta la comida de gato?\n",
    "* ¿le gusta la comida de perro?\n",
    "* ¿le gusta el bacon?\n",
    "\n",
    "## Pero,  ¿qué deberíamos preguntar primero? \n",
    "Para responder esta clase de preguntas los algoritmos de machine learning se sirven de una *función de transferencia* o una *función de costo*. Un árbol de decisión utiliza una función de tranferencia llamada ***Entropía*** para cuantificar el nivel de incertidumbre que tenemos en la clasificación de los datos. Es decir, la pregunta que sea capaz de reducir mas la incertidumbre (entropía) será la primera pregunta a hacer.\n",
    "\n",
    "La entropía viene definida de la siguiente manera:\n",
    "\n",
    "$H(x) = - \\sum_{i=1}^n p_i \\log_2 p_i$\n",
    "\n",
    "donde $H$ es la entropía, $p_i$ es la probabilidad que sea perro o gato. Veamos cual es la entropía de nuestro problema:\n",
    "\n",
    "Como tenemos 6 perros y 8 gatos, la probabilidad de escoger un perro al azar es $\\frac{6}{14}$, y la de que sea gato es $\\frac{8}{14}$. Entonces la entropía inicial de nuestro problema es:\n",
    "\n",
    "$H(x) = -(\\frac{6}{14}\\log_2\\frac{6}{14} + \\frac{8}{14}\\log_2\\frac{8}{14}) = 0.9852... $"
   ]
  },
  {
   "cell_type": "code",
   "execution_count": 13,
   "metadata": {
    "collapsed": true,
    "deletable": true,
    "editable": true
   },
   "outputs": [],
   "source": [
    "from numpy import log2\n",
    "def entropia_perro_gato(count_perro, count_gato):\n",
    "    prob_perro = count_perro / float(count_perro + count_gato)\n",
    "    prob_gato = count_gato / float(count_perro + count_gato)\n",
    "    return 0.0 if not count_perro or not count_gato else -(prob_perro*log2(prob_perro) + prob_gato*log2(prob_gato))"
   ]
  },
  {
   "cell_type": "markdown",
   "metadata": {
    "deletable": true,
    "editable": true
   },
   "source": [
    "## Evaluemos la pregunta si le gusta jugar al busca\n",
    "Evaluemos las entropías:"
   ]
  },
  {
   "cell_type": "code",
   "execution_count": 14,
   "metadata": {
    "collapsed": false,
    "deletable": true,
    "editable": true
   },
   "outputs": [
    {
     "name": "stdout",
     "output_type": "stream",
     "text": [
      "A 4 perros y 1 gatos sí les gusta jugar al busca. H=0.7219\n",
      "A 2 perros y 7 gatos no les gusta jugar al busca. H=0.7642\n"
     ]
    }
   ],
   "source": [
    "perro = dfl['especie']=='perro'\n",
    "gato = dfl['especie']=='gato'\n",
    "no_busca = dfl['juega al busca']==False\n",
    "si_busca = dfl['juega al busca']==True\n",
    "\n",
    "print('A %d perros y %d gatos sí les gusta jugar al busca. H=%0.4f' % (\n",
    "      dfl[perro]['juega al busca'].sum(),#podemos contar sumando el numero de True\n",
    "      len(dfl[gato & si_busca]),#o filtrando y contando cueantos valores quedan\n",
    "      entropia_perro_gato(4,1),\n",
    "     ))\n",
    "\n",
    "\n",
    "\n",
    "print('A %d perros y %d gatos no les gusta jugar al busca. H=%0.4f' % (\n",
    "      len(df[perro&no_busca]),\n",
    "      len(df[gato&no_busca]),\n",
    "      entropia_perro_gato(len(dfl[perro & no_busca]),\n",
    "                          len(dfl[gato & no_busca])),\n",
    "     ))"
   ]
  },
  {
   "cell_type": "markdown",
   "metadata": {
    "deletable": true,
    "editable": true
   },
   "source": [
    "### ¿y la comida de gato?\n",
    "* a 0 perros y 6 gatos les gusta la comida de gatos\n",
    "* mientras que a 6 perros y 2 gatos no les gusta.\n",
    "Su entropía es:"
   ]
  },
  {
   "cell_type": "code",
   "execution_count": 15,
   "metadata": {
    "collapsed": false,
    "deletable": true,
    "editable": true
   },
   "outputs": [
    {
     "name": "stdout",
     "output_type": "stream",
     "text": [
      "0.0\n",
      "0.811278124459\n"
     ]
    }
   ],
   "source": [
    "print(entropia_perro_gato(0,6))\n",
    "print(entropia_perro_gato(6,2))"
   ]
  },
  {
   "cell_type": "markdown",
   "metadata": {
    "deletable": true,
    "editable": true
   },
   "source": [
    "# Ahora sí, el árbol de decisión automático"
   ]
  },
  {
   "cell_type": "code",
   "execution_count": 16,
   "metadata": {
    "collapsed": false,
    "deletable": true,
    "editable": true
   },
   "outputs": [
    {
     "data": {
      "text/plain": [
       "DecisionTreeClassifier(class_weight=None, criterion='entropy', max_depth=None,\n",
       "            max_features=None, max_leaf_nodes=None,\n",
       "            min_impurity_split=1e-07, min_samples_leaf=1,\n",
       "            min_samples_split=2, min_weight_fraction_leaf=0.0,\n",
       "            presort=False, random_state=None, splitter='best')"
      ]
     },
     "execution_count": 16,
     "metadata": {},
     "output_type": "execute_result"
    }
   ],
   "source": [
    "from sklearn.tree import DecisionTreeClassifier\n",
    "\n",
    "classifier = DecisionTreeClassifier(criterion='entropy')\n",
    "classifier.fit(dft, labels)"
   ]
  },
  {
   "cell_type": "markdown",
   "metadata": {
    "deletable": true,
    "editable": true
   },
   "source": [
    "# importancia de los features\n",
    "como vamos a graficar, utilizaremos la función *mágica* de jupyter \n",
    "```python\n",
    "%matplotlib inline\n",
    "```\n",
    "la cual nos permite realizar gráficos en el notebook."
   ]
  },
  {
   "cell_type": "code",
   "execution_count": 17,
   "metadata": {
    "collapsed": true,
    "deletable": true,
    "editable": true
   },
   "outputs": [],
   "source": [
    "import matplotlib\n",
    "import matplotlib.pyplot as plt\n",
    "%matplotlib inline\n",
    "plt.rcParams['figure.figsize'] = (10, 6)\n",
    "plt.rcParams['xtick.labelsize'] = 12\n",
    "plt.rcParams['ytick.labelsize'] = 12"
   ]
  },
  {
   "cell_type": "code",
   "execution_count": 18,
   "metadata": {
    "collapsed": false,
    "deletable": true,
    "editable": true
   },
   "outputs": [
    {
     "data": {
      "text/plain": [
       "<matplotlib.axes._subplots.AxesSubplot at 0xb1f1670>"
      ]
     },
     "execution_count": 18,
     "metadata": {},
     "output_type": "execute_result"
    },
    {
     "data": {
      "image/png": "[encoded data removed]",
      "text/plain": [
       "<matplotlib.figure.Figure at 0xb1f11b0>"
      ]
     },
     "metadata": {},
     "output_type": "display_data"
    }
   ],
   "source": [
    "feat = pd.DataFrame(index=dft.keys(), data=classifier.feature_importances_, columns=['score'])\n",
    "feat = feat.sort_values(by='score', ascending=False)\n",
    "feat.plot(kind='bar',rot=85)"
   ]
  },
  {
   "cell_type": "markdown",
   "metadata": {
    "deletable": true,
    "editable": true
   },
   "source": [
    "# Bonus: Visualizando el arbol, requiere graphviz\n",
    "```\n",
    "conda install graphviz\n",
    "```"
   ]
  },
  {
   "cell_type": "code",
   "execution_count": 19,
   "metadata": {
    "collapsed": true,
    "deletable": true,
    "editable": true
   },
   "outputs": [],
   "source": [
    "from sklearn.tree import export_graphviz\n",
    "dotfile = open('perro_gato_tree.dot', 'w')\n",
    "export_graphviz(\n",
    "    classifier, \n",
    "    out_file = dotfile, \n",
    "    filled=True, \n",
    "    feature_names = dft.columns, \n",
    "    class_names=list(labels), \n",
    "    rotate=True, \n",
    "    max_depth=None, \n",
    "    rounded=True,\n",
    ")\n",
    "dotfile.close()"
   ]
  },
  {
   "cell_type": "markdown",
   "metadata": {
    "deletable": true,
    "editable": true
   },
   "source": [
    "La celda anterior exportó el árbol de decisión creado con sklearn y entrenado con nuestros datos a un archivo .dot\n",
    "\n",
    "Este archivo lo procesaremos con el comando dot de la terminal. Desde jupyter, podemos ejecutar comandos de terminal sin salir del notebook:"
   ]
  },
  {
   "cell_type": "code",
   "execution_count": 17,
   "metadata": {
    "collapsed": true,
    "deletable": true,
    "editable": true
   },
   "outputs": [],
   "source": [
    "!dot -Tpng perro_gato_tree.dot -o perro_gato_tree.png "
   ]
  },
  {
   "cell_type": "markdown",
   "metadata": {
    "deletable": true,
    "editable": true
   },
   "source": [
    "finalmente para cargar la imagen usamos:"
   ]
  },
  {
   "cell_type": "code",
   "execution_count": 18,
   "metadata": {
    "collapsed": false,
    "deletable": true,
    "editable": true
   },
   "outputs": [
    {
     "data": {
      "image/png": "[encoded data removed]",
      "text/plain": [
       "<IPython.core.display.Image object>"
      ]
     },
     "execution_count": 18,
     "metadata": {
      "image/png": {
       "width": 1000
      }
     },
     "output_type": "execute_result"
    }
   ],
   "source": [
    "from IPython.display import Image\n",
    "Image('perro_gato_tree.png', width=1000)"
   ]
  },
  {
   "cell_type": "markdown",
   "metadata": {
    "deletable": true,
    "editable": true
   },
   "source": [
    "# Evaluación del modelo"
   ]
  },
  {
   "cell_type": "code",
   "execution_count": 53,
   "metadata": {
    "collapsed": true,
    "deletable": true,
    "editable": true
   },
   "outputs": [],
   "source": [
    "import numpy as np"
   ]
  },
  {
   "cell_type": "code",
   "execution_count": 54,
   "metadata": {
    "collapsed": false,
    "deletable": true,
    "editable": true
   },
   "outputs": [
    {
     "data": {
      "text/plain": [
       "array(['perro', 'perro', 'gato', 'gato', 'perro', 'perro', 'perro', 'gato',\n",
       "       'gato', 'gato', 'gato', 'gato', 'perro', 'gato'], dtype=object)"
      ]
     },
     "execution_count": 54,
     "metadata": {},
     "output_type": "execute_result"
    }
   ],
   "source": [
    "np.array(classifier.predict(dft))"
   ]
  },
  {
   "cell_type": "code",
   "execution_count": 55,
   "metadata": {
    "collapsed": false,
    "deletable": true,
    "editable": true
   },
   "outputs": [
    {
     "data": {
      "text/plain": [
       "array(['perro', 'perro', 'gato', 'gato', 'perro', 'perro', 'perro', 'gato',\n",
       "       'gato', 'gato', 'gato', 'gato', 'perro', 'gato'], dtype=object)"
      ]
     },
     "execution_count": 55,
     "metadata": {},
     "output_type": "execute_result"
    }
   ],
   "source": [
    "np.array(labels)"
   ]
  },
  {
   "cell_type": "code",
   "execution_count": 57,
   "metadata": {
    "collapsed": false,
    "deletable": true,
    "editable": true
   },
   "outputs": [
    {
     "name": "stdout",
     "output_type": "stream",
     "text": [
      "Error rate 1.0000\n"
     ]
    }
   ],
   "source": [
    "print('Error rate %0.4f'%((np.array(classifier.predict(dft))==np.array(labels)).sum() / float(len(labels))))"
   ]
  },
  {
   "cell_type": "markdown",
   "metadata": {
    "deletable": true,
    "editable": true
   },
   "source": [
    "## Ahora evaluemos sobre datos nunca vistos por el modelo!!!!!"
   ]
  },
  {
   "cell_type": "code",
   "execution_count": 23,
   "metadata": {
    "collapsed": false,
    "deletable": true,
    "editable": true
   },
   "outputs": [
    {
     "data": {
      "text/html": [
       "<div>\n",
       "<table border=\"1\" class=\"dataframe\">\n",
       "  <thead>\n",
       "    <tr style=\"text-align: right;\">\n",
       "      <th></th>\n",
       "      <th>juega al busca</th>\n",
       "      <th>apatico</th>\n",
       "      <th>comida favorita</th>\n",
       "      <th>especie</th>\n",
       "    </tr>\n",
       "    <tr>\n",
       "      <th>observacion</th>\n",
       "      <th></th>\n",
       "      <th></th>\n",
       "      <th></th>\n",
       "      <th></th>\n",
       "    </tr>\n",
       "  </thead>\n",
       "  <tbody>\n",
       "    <tr>\n",
       "      <th>1</th>\n",
       "      <td>True</td>\n",
       "      <td>False</td>\n",
       "      <td>bacon</td>\n",
       "      <td>perro</td>\n",
       "    </tr>\n",
       "    <tr>\n",
       "      <th>2</th>\n",
       "      <td>True</td>\n",
       "      <td>True</td>\n",
       "      <td>comida de perro</td>\n",
       "      <td>perro</td>\n",
       "    </tr>\n",
       "    <tr>\n",
       "      <th>3</th>\n",
       "      <td>False</td>\n",
       "      <td>True</td>\n",
       "      <td>comida de perro</td>\n",
       "      <td>gato</td>\n",
       "    </tr>\n",
       "    <tr>\n",
       "      <th>4</th>\n",
       "      <td>False</td>\n",
       "      <td>True</td>\n",
       "      <td>bacon</td>\n",
       "      <td>gato</td>\n",
       "    </tr>\n",
       "    <tr>\n",
       "      <th>5</th>\n",
       "      <td>False</td>\n",
       "      <td>False</td>\n",
       "      <td>comida de gato</td>\n",
       "      <td>gato</td>\n",
       "    </tr>\n",
       "  </tbody>\n",
       "</table>\n",
       "</div>"
      ],
      "text/plain": [
       "            juega al busca apatico  comida favorita especie\n",
       "observacion                                                \n",
       "1                     True   False            bacon   perro\n",
       "2                     True    True  comida de perro   perro\n",
       "3                    False    True  comida de perro    gato\n",
       "4                    False    True            bacon    gato\n",
       "5                    False   False   comida de gato    gato"
      ]
     },
     "execution_count": 23,
     "metadata": {},
     "output_type": "execute_result"
    }
   ],
   "source": [
    "test = pd.read_csv('data/perros_o_gatos_TEST.csv', index_col='observacion')\n",
    "test"
   ]
  },
  {
   "cell_type": "code",
   "execution_count": 24,
   "metadata": {
    "collapsed": true,
    "deletable": true,
    "editable": true
   },
   "outputs": [],
   "source": [
    "label_test = test['especie']\n",
    "del test['especie']"
   ]
  },
  {
   "cell_type": "code",
   "execution_count": 26,
   "metadata": {
    "collapsed": false,
    "deletable": true,
    "editable": true
   },
   "outputs": [
    {
     "data": {
      "text/html": [
       "<div>\n",
       "<table border=\"1\" class=\"dataframe\">\n",
       "  <thead>\n",
       "    <tr style=\"text-align: right;\">\n",
       "      <th></th>\n",
       "      <th>apatico</th>\n",
       "      <th>comida favorita=bacon</th>\n",
       "      <th>comida favorita=comida de gato</th>\n",
       "      <th>comida favorita=comida de perro</th>\n",
       "      <th>juega al busca</th>\n",
       "    </tr>\n",
       "  </thead>\n",
       "  <tbody>\n",
       "    <tr>\n",
       "      <th>0</th>\n",
       "      <td>0.0</td>\n",
       "      <td>1.0</td>\n",
       "      <td>0.0</td>\n",
       "      <td>0.0</td>\n",
       "      <td>1.0</td>\n",
       "    </tr>\n",
       "    <tr>\n",
       "      <th>1</th>\n",
       "      <td>1.0</td>\n",
       "      <td>0.0</td>\n",
       "      <td>0.0</td>\n",
       "      <td>1.0</td>\n",
       "      <td>1.0</td>\n",
       "    </tr>\n",
       "    <tr>\n",
       "      <th>2</th>\n",
       "      <td>1.0</td>\n",
       "      <td>0.0</td>\n",
       "      <td>0.0</td>\n",
       "      <td>1.0</td>\n",
       "      <td>0.0</td>\n",
       "    </tr>\n",
       "    <tr>\n",
       "      <th>3</th>\n",
       "      <td>1.0</td>\n",
       "      <td>1.0</td>\n",
       "      <td>0.0</td>\n",
       "      <td>0.0</td>\n",
       "      <td>0.0</td>\n",
       "    </tr>\n",
       "    <tr>\n",
       "      <th>4</th>\n",
       "      <td>0.0</td>\n",
       "      <td>0.0</td>\n",
       "      <td>1.0</td>\n",
       "      <td>0.0</td>\n",
       "      <td>0.0</td>\n",
       "    </tr>\n",
       "  </tbody>\n",
       "</table>\n",
       "</div>"
      ],
      "text/plain": [
       "   apatico  comida favorita=bacon  comida favorita=comida de gato  \\\n",
       "0      0.0                    1.0                             0.0   \n",
       "1      1.0                    0.0                             0.0   \n",
       "2      1.0                    0.0                             0.0   \n",
       "3      1.0                    1.0                             0.0   \n",
       "4      0.0                    0.0                             1.0   \n",
       "\n",
       "   comida favorita=comida de perro  juega al busca  \n",
       "0                              0.0             1.0  \n",
       "1                              1.0             1.0  \n",
       "2                              1.0             0.0  \n",
       "3                              0.0             0.0  \n",
       "4                              0.0             0.0  "
      ]
     },
     "execution_count": 26,
     "metadata": {},
     "output_type": "execute_result"
    }
   ],
   "source": [
    "ab = vectorizer.transform(test.to_dict(orient='records'))\n",
    "dftest = pd.DataFrame(ab, columns=vectorizer.get_feature_names())\n",
    "dftest.head()"
   ]
  },
  {
   "cell_type": "code",
   "execution_count": 30,
   "metadata": {
    "collapsed": false,
    "deletable": true,
    "editable": true
   },
   "outputs": [
    {
     "data": {
      "text/plain": [
       "['perro', 'perro', 'perro', 'gato', 'gato']"
      ]
     },
     "execution_count": 30,
     "metadata": {},
     "output_type": "execute_result"
    }
   ],
   "source": [
    "list(classifier.predict(dftest))"
   ]
  },
  {
   "cell_type": "code",
   "execution_count": 32,
   "metadata": {
    "collapsed": false,
    "deletable": true,
    "editable": true
   },
   "outputs": [
    {
     "data": {
      "text/plain": [
       "['perro', 'perro', 'gato', 'gato', 'gato']"
      ]
     },
     "execution_count": 32,
     "metadata": {},
     "output_type": "execute_result"
    }
   ],
   "source": [
    "list(label_test)"
   ]
  },
  {
   "cell_type": "code",
   "execution_count": 49,
   "metadata": {
    "collapsed": false,
    "deletable": true,
    "editable": true
   },
   "outputs": [
    {
     "name": "stdout",
     "output_type": "stream",
     "text": [
      "Error rate 0.8000\n"
     ]
    }
   ],
   "source": [
    "print('Error rate %0.4f'%((np.array(classifier.predict(dftest))==np.array(label_test)).sum() / float(len(label_test))))"
   ]
  },
  {
   "cell_type": "code",
   "execution_count": null,
   "metadata": {
    "collapsed": true,
    "deletable": true,
    "editable": true
   },
   "outputs": [],
   "source": []
  }
 ],
 "metadata": {
  "kernelspec": {
   "display_name": "Python 3",
   "language": "python",
   "name": "python3"
  },
  "language_info": {
   "codemirror_mode": {
    "name": "ipython",
    "version": 3
   },
   "file_extension": ".py",
   "mimetype": "text/x-python",
   "name": "python",
   "nbconvert_exporter": "python",
   "pygments_lexer": "ipython3",
   "version": "3.5.2"
  }
 },
 "nbformat": 4,
 "nbformat_minor": 2
}
