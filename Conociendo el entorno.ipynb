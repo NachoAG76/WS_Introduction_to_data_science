{
 "cells": [
  {
   "cell_type": "markdown",
   "metadata": {},
   "source": [
    "# Veamos posibles entornos de trabajo "
   ]
  },
  {
   "cell_type": "markdown",
   "metadata": {},
   "source": [
    "No hacen falta grandes florituras para poder programar en Python, tener instalado el intérprete y listo. \n",
    "\n",
    "* Cualquier editor de texto es válido (vim, emacs, notepad, geany, notepad++, sublime text,...).\n",
    "\n",
    "\n",
    "* CPython viene con un IDLE para poder escribir y ejecutar programas.\n",
    "\n",
    "\n",
    "* Existen IDEs (*Integrated development Environment*) que ayudan en el día a día con muchos esteroides con respecto a editores de texto simples (tooltips, depuradores integrados, ayuda integrada, integración con sistemas de control de versiones,...).\n",
    "\n",
    "\n",
    "* Consolas vitaminadas para hacer pruebas interactivas ([IPython](http://ipython.readthedocs.org/en/stable/interactive/tutorial.html), [bpython](http://www.bpython-interpreter.org/), [ptpython](https://github.com/jonathanslenders/ptpython),...)."
   ]
  },
  {
   "cell_type": "markdown",
   "metadata": {},
   "source": [
    "### Hagamos un ejemplo con un editor de texto."
   ]
  },
  {
   "cell_type": "markdown",
   "metadata": {},
   "source": [
    "Abrid notepad (si estáis en windows) o vim (si estáis en linux) y escribid:\n",
    "\n",
    "```python\n",
    "from time import sleep\n",
    "\n",
    "print(1 + 1)\n",
    "sleep(5)\n",
    "```\n",
    "\n",
    "Una vez escrito lo anterior, guardad el fichero como *lo_que_quieras.py* en la carpeta que queráis de vuestro disco duro.\n",
    "\n",
    "Haced doble click sobre ese fichero."
   ]
  },
  {
   "cell_type": "markdown",
   "metadata": {},
   "source": [
    "### Retomemos el ejemplo anterior usando el IDLE que viene por defecto"
   ]
  },
  {
   "cell_type": "markdown",
   "metadata": {},
   "source": [
    "Sobre el fichero anterior con extensión *xxxxxx.py*:\n",
    "\n",
    "* en windows: pulsad con el botón derecho y veréis un menú desplegable con algo que ponga **'open with IDLE'**.\n",
    "\n",
    "\n",
    "* En Linux (\\*): abrid una línea de comandos, desplazaos hasta la carpeta donde se encuentra el fichero con extensión *.py* y escribid\n",
    "\n",
    "    idle nombre_del_fichero.py\n",
    "    \n",
    "(\\*) Quizá debáis instalar algún paquete para vuestra distribución (`apt-get`, `yum`,..)"
   ]
  },
  {
   "cell_type": "markdown",
   "metadata": {},
   "source": [
    "### IDEs"
   ]
  },
  {
   "cell_type": "markdown",
   "metadata": {},
   "source": [
    "Existen muchos IDEs, entre los más conocidos tenéis [Eclipse + PyDev](http://www.pydev.org/), [PyCharm](https://www.jetbrains.com/pycharm/),... En este caso vamos a ver uno que se llama **[Spyder](https://github.com/spyder-ide/spyder)**, que intenta simular un entorno de desarrollo parecido al disponible en Matlab. Arranquemos Spyder y veamos algunas de sus características."
   ]
  },
  {
   "cell_type": "markdown",
   "metadata": {},
   "source": [
    "### Consolas vitaminadas"
   ]
  },
  {
   "cell_type": "markdown",
   "metadata": {},
   "source": [
    "IPython, IPython qtconsole, [ptpython](https://github.com/jonathanslenders/ptpython),..."
   ]
  },
  {
   "cell_type": "markdown",
   "metadata": {},
   "source": [
    "# Y el notebook"
   ]
  },
  {
   "cell_type": "markdown",
   "metadata": {},
   "source": [
    "__Será nuestra herramienta de trabajo durante el curso__. Esto que estás leyendo ahora no es más que un notebook de Jupyter (anteriormente llamado IPython) que, como veremos luego, además de código puede contener texto, vídeos, imágenes... Veamos cómo funciona.\n",
    "\n",
    "__Al iniciar el notebook de IPython, en la pantalla principal podemos ver una ruta y una lista de notebooks__. Cada notebook es un archivo que está almacenado en el ordenador en la ruta que aparece. Si en esa carpeta no hay notebooks, veremos un mensaje indicando que la lista de notebooks está vacía.\n",
    "\n",
    "Al crear un notebook o al abrir uno nuevo se abre la interfaz de IPython propiamente dicha donde ya podemos empezar a trabajar. Es similar a un intérprete, pero está dividida en **celdas**. Las celdas pueden contener, código, texto, imágenes...\n",
    "\n",
    "Cada celda de código está marcada por la palabra `In [<n>]` y están **numeradas**. Tan solo tenemos que escribir el código en ella y hacer click arriba en Cell -> Run, el triángulo (\"Run cell\") o usar el atajo `shift + Enter`. El resultado de la celda se muestra en el campo `Out [<n>]`, también numerado y coincidiendo con la celda que acabamos de ejecutar. Esto es importante, como ya veremos luego.\n",
    "\n",
    "Si en la barra superior seleccionas Markdown (o usas el atajo `Shift-M`) en lugar de Code puedes escribir texto:\n",
    "\n",
    "<img src=\"imgs/markdown_cell.gif\" />"
   ]
  },
  {
   "cell_type": "code",
   "execution_count": 1,
   "metadata": {
    "collapsed": true
   },
   "outputs": [],
   "source": [
    "a = 1"
   ]
  },
  {
   "cell_type": "markdown",
   "metadata": {},
   "source": [
    "También ecuaciones en latex y mucho más. Esto es una herramienta muy potente para explicar a alguien o a ti mismo lo que tu código hace, para hacer un informe, un trabajo, escribir en un blog...\n",
    "\n",
    "Markdown es un lenguaje aparte, no te preocupes por él demasiado ahora, irás aprendiendo sobre la marcha... Para cuando lo vayas necesitando, aquí tienes una [chuleta](https://github.com/adam-p/markdown-here/wiki/Markdown-Cheatsheet).\n",
    "\n",
    "<img src=\"imgs/markdown_math.gif\" />"
   ]
  },
  {
   "cell_type": "markdown",
   "metadata": {},
   "source": [
    "Puedes mover las celdas de un lugar a otro de este modo:\n",
    "\n",
    "<img src=\"imgs/cell_move.gif\" />"
   ]
  },
  {
   "cell_type": "markdown",
   "metadata": {},
   "source": [
    "El Notebook tiene, además, numerosos atajos que irás aprendiendo sobre la marcha, puedes consultarlos en `Help > Keyboard Shortcourts`"
   ]
  },
  {
   "cell_type": "markdown",
   "metadata": {},
   "source": [
    "Veamos algunos en vivo..."
   ]
  },
  {
   "cell_type": "code",
   "execution_count": 29,
   "metadata": {
    "collapsed": true
   },
   "outputs": [],
   "source": [
    "### hacemos cosas con el notebook para ver como funciona ###\n",
    "\n",
    "a = 1\n",
    "b = 2"
   ]
  },
  {
   "cell_type": "markdown",
   "metadata": {},
   "source": [
    "# Este es un título\n",
    "\n",
    "Esto es texto:\n",
    "\n",
    "* Esto es un listado"
   ]
  },
  {
   "cell_type": "code",
   "execution_count": 3,
   "metadata": {
    "collapsed": false
   },
   "outputs": [
    {
     "data": {
      "text/plain": [
       "3"
      ]
     },
     "execution_count": 3,
     "metadata": {},
     "output_type": "execute_result"
    }
   ],
   "source": [
    "a+b"
   ]
  },
  {
   "cell_type": "markdown",
   "metadata": {
    "collapsed": true
   },
   "source": [
    "<h1>Titulo</h1>\n",
    "\n",
    "* lista1\n",
    "\n",
    "* lista2\n",
    "\n",
    "`èsto es una pieza de código`\n",
    "\n",
    "```python\n",
    "def fn():\n",
    "    #esto es una fun cion\n",
    "    pass\n",
    "```"
   ]
  },
  {
   "cell_type": "code",
   "execution_count": null,
   "metadata": {
    "collapsed": true
   },
   "outputs": [],
   "source": [
    "# esto es comentario en código python\n",
    "print() # esto es un print"
   ]
  }
 ],
 "metadata": {
  "kernelspec": {
   "display_name": "Python 3",
   "language": "python",
   "name": "python3"
  },
  "language_info": {
   "codemirror_mode": {
    "name": "ipython",
    "version": 3
   },
   "file_extension": ".py",
   "mimetype": "text/x-python",
   "name": "python",
   "nbconvert_exporter": "python",
   "pygments_lexer": "ipython3",
   "version": "3.5.2"
  }
 },
 "nbformat": 4,
 "nbformat_minor": 0
}
